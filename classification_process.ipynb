{
 "cells": [
  {
   "cell_type": "code",
   "execution_count": 55,
   "metadata": {},
   "outputs": [],
   "source": [
    "import numpy as np\n",
    "import pandas as pd"
   ]
  },
  {
   "cell_type": "code",
   "execution_count": null,
   "metadata": {},
   "outputs": [],
   "source": []
  },
  {
   "cell_type": "markdown",
   "metadata": {},
   "source": [
    "# Problem Understanding"
   ]
  },
  {
   "cell_type": "markdown",
   "metadata": {},
   "source": [
    "The National Health Service has determined that decisive action to treat diabetes is necessary. However, diagnosing it takes hours of doctors that are in high demand.<br>\n",
    "\n",
    "Help them to predict who is diabetic and who is not based on data that non-medical stuff can obtain so that you reduce the number of people who:\n",
    "- get treated without needing it\n",
    "- don't get treated when they actually needed it"
   ]
  },
  {
   "cell_type": "markdown",
   "metadata": {},
   "source": [
    "# Data Understanding"
   ]
  },
  {
   "cell_type": "markdown",
   "metadata": {},
   "source": [
    "https://data.world/data-society/pima-indians-diabetes-database"
   ]
  },
  {
   "cell_type": "code",
   "execution_count": 56,
   "metadata": {},
   "outputs": [
    {
     "name": "stdout",
     "output_type": "stream",
     "text": [
      "(768, 9)\n"
     ]
    },
    {
     "data": {
      "text/html": [
       "<div>\n",
       "<style scoped>\n",
       "    .dataframe tbody tr th:only-of-type {\n",
       "        vertical-align: middle;\n",
       "    }\n",
       "\n",
       "    .dataframe tbody tr th {\n",
       "        vertical-align: top;\n",
       "    }\n",
       "\n",
       "    .dataframe thead th {\n",
       "        text-align: right;\n",
       "    }\n",
       "</style>\n",
       "<table border=\"1\" class=\"dataframe\">\n",
       "  <thead>\n",
       "    <tr style=\"text-align: right;\">\n",
       "      <th></th>\n",
       "      <th>Pregnancies</th>\n",
       "      <th>Glucose</th>\n",
       "      <th>BloodPressure</th>\n",
       "      <th>SkinThickness</th>\n",
       "      <th>Insulin</th>\n",
       "      <th>BMI</th>\n",
       "      <th>DiabetesPedigreeFunction</th>\n",
       "      <th>Age</th>\n",
       "      <th>Outcome</th>\n",
       "    </tr>\n",
       "  </thead>\n",
       "  <tbody>\n",
       "    <tr>\n",
       "      <td>0</td>\n",
       "      <td>6</td>\n",
       "      <td>148</td>\n",
       "      <td>72</td>\n",
       "      <td>35</td>\n",
       "      <td>0</td>\n",
       "      <td>33.6</td>\n",
       "      <td>0.627</td>\n",
       "      <td>50</td>\n",
       "      <td>1</td>\n",
       "    </tr>\n",
       "    <tr>\n",
       "      <td>1</td>\n",
       "      <td>1</td>\n",
       "      <td>85</td>\n",
       "      <td>66</td>\n",
       "      <td>29</td>\n",
       "      <td>0</td>\n",
       "      <td>26.6</td>\n",
       "      <td>0.351</td>\n",
       "      <td>31</td>\n",
       "      <td>0</td>\n",
       "    </tr>\n",
       "    <tr>\n",
       "      <td>2</td>\n",
       "      <td>8</td>\n",
       "      <td>183</td>\n",
       "      <td>64</td>\n",
       "      <td>0</td>\n",
       "      <td>0</td>\n",
       "      <td>23.3</td>\n",
       "      <td>0.672</td>\n",
       "      <td>32</td>\n",
       "      <td>1</td>\n",
       "    </tr>\n",
       "    <tr>\n",
       "      <td>3</td>\n",
       "      <td>1</td>\n",
       "      <td>89</td>\n",
       "      <td>66</td>\n",
       "      <td>23</td>\n",
       "      <td>94</td>\n",
       "      <td>28.1</td>\n",
       "      <td>0.167</td>\n",
       "      <td>21</td>\n",
       "      <td>0</td>\n",
       "    </tr>\n",
       "    <tr>\n",
       "      <td>4</td>\n",
       "      <td>0</td>\n",
       "      <td>137</td>\n",
       "      <td>40</td>\n",
       "      <td>35</td>\n",
       "      <td>168</td>\n",
       "      <td>43.1</td>\n",
       "      <td>2.288</td>\n",
       "      <td>33</td>\n",
       "      <td>1</td>\n",
       "    </tr>\n",
       "  </tbody>\n",
       "</table>\n",
       "</div>"
      ],
      "text/plain": [
       "   Pregnancies  Glucose  BloodPressure  SkinThickness  Insulin   BMI  \\\n",
       "0            6      148             72             35        0  33.6   \n",
       "1            1       85             66             29        0  26.6   \n",
       "2            8      183             64              0        0  23.3   \n",
       "3            1       89             66             23       94  28.1   \n",
       "4            0      137             40             35      168  43.1   \n",
       "\n",
       "   DiabetesPedigreeFunction  Age  Outcome  \n",
       "0                     0.627   50        1  \n",
       "1                     0.351   31        0  \n",
       "2                     0.672   32        1  \n",
       "3                     0.167   21        0  \n",
       "4                     2.288   33        1  "
      ]
     },
     "execution_count": 56,
     "metadata": {},
     "output_type": "execute_result"
    }
   ],
   "source": [
    "df = pd.read_csv('pima-indians-diabetes.csv')\n",
    "print(df.shape)\n",
    "df.head()"
   ]
  },
  {
   "cell_type": "code",
   "execution_count": 57,
   "metadata": {},
   "outputs": [
    {
     "data": {
      "text/html": [
       "<div>\n",
       "<style scoped>\n",
       "    .dataframe tbody tr th:only-of-type {\n",
       "        vertical-align: middle;\n",
       "    }\n",
       "\n",
       "    .dataframe tbody tr th {\n",
       "        vertical-align: top;\n",
       "    }\n",
       "\n",
       "    .dataframe thead th {\n",
       "        text-align: right;\n",
       "    }\n",
       "</style>\n",
       "<table border=\"1\" class=\"dataframe\">\n",
       "  <thead>\n",
       "    <tr style=\"text-align: right;\">\n",
       "      <th></th>\n",
       "      <th>Pregnancies</th>\n",
       "      <th>Glucose</th>\n",
       "      <th>BloodPressure</th>\n",
       "      <th>SkinThickness</th>\n",
       "      <th>Insulin</th>\n",
       "      <th>BMI</th>\n",
       "      <th>DiabetesPedigreeFunction</th>\n",
       "      <th>Age</th>\n",
       "    </tr>\n",
       "  </thead>\n",
       "  <tbody>\n",
       "    <tr>\n",
       "      <td>0</td>\n",
       "      <td>6</td>\n",
       "      <td>148</td>\n",
       "      <td>72</td>\n",
       "      <td>35</td>\n",
       "      <td>0</td>\n",
       "      <td>33.6</td>\n",
       "      <td>0.627</td>\n",
       "      <td>50</td>\n",
       "    </tr>\n",
       "    <tr>\n",
       "      <td>1</td>\n",
       "      <td>1</td>\n",
       "      <td>85</td>\n",
       "      <td>66</td>\n",
       "      <td>29</td>\n",
       "      <td>0</td>\n",
       "      <td>26.6</td>\n",
       "      <td>0.351</td>\n",
       "      <td>31</td>\n",
       "    </tr>\n",
       "    <tr>\n",
       "      <td>2</td>\n",
       "      <td>8</td>\n",
       "      <td>183</td>\n",
       "      <td>64</td>\n",
       "      <td>0</td>\n",
       "      <td>0</td>\n",
       "      <td>23.3</td>\n",
       "      <td>0.672</td>\n",
       "      <td>32</td>\n",
       "    </tr>\n",
       "    <tr>\n",
       "      <td>3</td>\n",
       "      <td>1</td>\n",
       "      <td>89</td>\n",
       "      <td>66</td>\n",
       "      <td>23</td>\n",
       "      <td>94</td>\n",
       "      <td>28.1</td>\n",
       "      <td>0.167</td>\n",
       "      <td>21</td>\n",
       "    </tr>\n",
       "    <tr>\n",
       "      <td>4</td>\n",
       "      <td>0</td>\n",
       "      <td>137</td>\n",
       "      <td>40</td>\n",
       "      <td>35</td>\n",
       "      <td>168</td>\n",
       "      <td>43.1</td>\n",
       "      <td>2.288</td>\n",
       "      <td>33</td>\n",
       "    </tr>\n",
       "  </tbody>\n",
       "</table>\n",
       "</div>"
      ],
      "text/plain": [
       "   Pregnancies  Glucose  BloodPressure  SkinThickness  Insulin   BMI  \\\n",
       "0            6      148             72             35        0  33.6   \n",
       "1            1       85             66             29        0  26.6   \n",
       "2            8      183             64              0        0  23.3   \n",
       "3            1       89             66             23       94  28.1   \n",
       "4            0      137             40             35      168  43.1   \n",
       "\n",
       "   DiabetesPedigreeFunction  Age  \n",
       "0                     0.627   50  \n",
       "1                     0.351   31  \n",
       "2                     0.672   32  \n",
       "3                     0.167   21  \n",
       "4                     2.288   33  "
      ]
     },
     "execution_count": 57,
     "metadata": {},
     "output_type": "execute_result"
    }
   ],
   "source": [
    "X = df.drop('Outcome',axis=1)\n",
    "y = df['Outcome']\n",
    "X.head()"
   ]
  },
  {
   "cell_type": "markdown",
   "metadata": {},
   "source": [
    "# Data preparation"
   ]
  },
  {
   "cell_type": "markdown",
   "metadata": {},
   "source": [
    "### Split your X data in train and test datasets\n",
    "Here is the documentation: https://scikit-learn.org/stable/modules/generated/sklearn.model_selection.train_test_split.html"
   ]
  },
  {
   "cell_type": "code",
   "execution_count": 58,
   "metadata": {},
   "outputs": [],
   "source": [
    "from sklearn.model_selection import train_test_split\n",
    "X_train, X_test, y_train, y_test = train_test_split(X,y)"
   ]
  },
  {
   "cell_type": "markdown",
   "metadata": {},
   "source": [
    "### Split your train data in train and validation datasets"
   ]
  },
  {
   "cell_type": "code",
   "execution_count": 59,
   "metadata": {},
   "outputs": [],
   "source": [
    "from sklearn.model_selection import train_test_split\n",
    "X_train_s, X_val, y_train_s, y_val = train_test_split(X_train, y_train)"
   ]
  },
  {
   "cell_type": "markdown",
   "metadata": {},
   "source": [
    "### Scale the 3 datasets using StandardScaler"
   ]
  },
  {
   "cell_type": "code",
   "execution_count": 60,
   "metadata": {},
   "outputs": [],
   "source": [
    "from sklearn.preprocessing import StandardScaler \n",
    "scaler = StandardScaler()\n",
    "scaler.fit(X_train_s)\n",
    "\n",
    "X_train_scaled = scaler.transform(X_train_s)\n",
    "X_val_scaled = scaler.transform(X_val)\n",
    "X_test = scaler.transform(X_test)"
   ]
  },
  {
   "cell_type": "markdown",
   "metadata": {},
   "source": [
    "# Modelling and Model Evaluation"
   ]
  },
  {
   "cell_type": "markdown",
   "metadata": {},
   "source": [
    "### Train a logistic regression model with NO regularisation"
   ]
  },
  {
   "cell_type": "code",
   "execution_count": 61,
   "metadata": {},
   "outputs": [],
   "source": [
    "from sklearn.linear_model import LogisticRegression\n",
    "logreg = LogisticRegression(penalty='none',  solver='lbfgs')\n",
    "model_log = logreg.fit(X_train_scaled, y_train_s)"
   ]
  },
  {
   "cell_type": "markdown",
   "metadata": {},
   "source": [
    "### Measure the accuracy and ROC_AUC of your model\n",
    "Here is the documentation: https://scikit-learn.org/stable/modules/model_evaluation.html#classification-metrics"
   ]
  },
  {
   "cell_type": "code",
   "execution_count": 62,
   "metadata": {},
   "outputs": [
    {
     "name": "stdout",
     "output_type": "stream",
     "text": [
      "Accuracy: 0.7592592592592593\n",
      "The ROC&AUC is: 0.7018521592714682\n"
     ]
    }
   ],
   "source": [
    "from sklearn.metrics import accuracy_score, roc_auc_score\n",
    "\n",
    "y_train_log = logreg.predict(X_train_scaled)\n",
    "\n",
    "print('Accuracy:', accuracy_score(y_train_s, y_train_log))\n",
    "print('The ROC&AUC is:', roc_auc_score(y_train_s, y_train_log))"
   ]
  },
  {
   "cell_type": "markdown",
   "metadata": {},
   "source": [
    "### Train a logistic regression model with L1 regularisation"
   ]
  },
  {
   "cell_type": "code",
   "execution_count": 63,
   "metadata": {},
   "outputs": [
    {
     "data": {
      "text/plain": [
       "LogisticRegression(C=1.0, class_weight=None, dual=False, fit_intercept=True,\n",
       "                   intercept_scaling=1, l1_ratio=None, max_iter=100,\n",
       "                   multi_class='warn', n_jobs=None, penalty='l1',\n",
       "                   random_state=None, solver='liblinear', tol=0.0001, verbose=0,\n",
       "                   warm_start=False)"
      ]
     },
     "execution_count": 63,
     "metadata": {},
     "output_type": "execute_result"
    }
   ],
   "source": [
    "logreg_l = LogisticRegression(penalty='l1',  solver='liblinear')\n",
    "logreg_l.fit(X_train_scaled, y_train_s)"
   ]
  },
  {
   "cell_type": "markdown",
   "metadata": {},
   "source": [
    "### Measure the accuracy and ROC_AUC of your model\n"
   ]
  },
  {
   "cell_type": "code",
   "execution_count": 64,
   "metadata": {},
   "outputs": [
    {
     "name": "stdout",
     "output_type": "stream",
     "text": [
      "Accuracy: 0.7638888888888888\n",
      "The ROC&AUC is:  0.8058908625228259\n"
     ]
    }
   ],
   "source": [
    "from sklearn.metrics import accuracy_score, f1_score, roc_auc_score\n",
    "\n",
    "y_train_log_las = logreg_l.predict(X_train_scaled)\n",
    "train_prob_l = logreg_l.predict_proba(X_train_scaled)[:,1]\n",
    "\n",
    "print('Accuracy:',accuracy_score(y_train_s, y_train_log_las))\n",
    "print('The ROC&AUC is: ', roc_auc_score(y_train_s, train_prob_l))"
   ]
  },
  {
   "cell_type": "markdown",
   "metadata": {},
   "source": [
    "## Which model did you choose? Explain your reasoning"
   ]
  },
  {
   "cell_type": "code",
   "execution_count": 65,
   "metadata": {},
   "outputs": [],
   "source": [
    "# ???????????????????????????????????????\n",
    "# \n",
    "# \n",
    "# \n",
    "# "
   ]
  },
  {
   "cell_type": "markdown",
   "metadata": {},
   "source": [
    "# Interprete your winning model"
   ]
  },
  {
   "cell_type": "markdown",
   "metadata": {},
   "source": [
    "### Extract your intercept and coefficients"
   ]
  },
  {
   "cell_type": "code",
   "execution_count": 66,
   "metadata": {},
   "outputs": [
    {
     "name": "stdout",
     "output_type": "stream",
     "text": [
      "['Pregnancies', 'Glucose', 'BloodPressure', 'SkinThickness', 'Insulin', 'BMI', 'DiabetesPedigreeFunction', 'Age']\n",
      "The coefficients are  [[ 0.29  0.96 -0.29  0.15 -0.32  0.52  0.27  0.23]]\n",
      "The intercept of the regression is [-0.82]\n"
     ]
    }
   ],
   "source": [
    "parameters = logreg_l.coef_\n",
    "inter = logreg_l.intercept_\n",
    "cols = list(X.columns)\n",
    "print(cols)\n",
    "print('The coefficients are ', parameters.round(2))\n",
    "print('The intercept of the regression is', inter.round(2))\n"
   ]
  },
  {
   "cell_type": "markdown",
   "metadata": {},
   "source": [
    "### Show the difference in probabilities when changing the value of one of your predictors"
   ]
  },
  {
   "cell_type": "code",
   "execution_count": 67,
   "metadata": {},
   "outputs": [
    {
     "name": "stdout",
     "output_type": "stream",
     "text": [
      "Probability of 50 =  [2.16492518e-07]\n"
     ]
    }
   ],
   "source": [
    "bp_50 = 50\n",
    "bp_80 = 80\n",
    "\n",
    "bp_coef = parameters[0][2]\n",
    "\n",
    "#convert log-odds to odds\n",
    "\n",
    "log_odds = inter + (bp_coef*bp_50)\n",
    "odds = np.exp(log_odds)\n",
    "odds\n",
    "\n",
    "\n",
    "prob_50 = odds/(1+odds)\n",
    "print('Probability of 50 = ', prob_50)"
   ]
  },
  {
   "cell_type": "code",
   "execution_count": 68,
   "metadata": {},
   "outputs": [
    {
     "name": "stdout",
     "output_type": "stream",
     "text": [
      "Probability of 80 =  [3.54341976e-11]\n"
     ]
    }
   ],
   "source": [
    "log_odds_2 = inter + (bp_coef*bp_80)\n",
    "odds_2 = np.exp(log_odds_2)\n",
    "odds_2\n",
    "\n",
    "\n",
    "prob_80 = odds_2/(1+odds_2)\n",
    "print('Probability of 80 = ', prob_80)\n"
   ]
  },
  {
   "cell_type": "code",
   "execution_count": null,
   "metadata": {},
   "outputs": [],
   "source": []
  },
  {
   "cell_type": "code",
   "execution_count": 69,
   "metadata": {},
   "outputs": [],
   "source": [
    "# print(logreg.predict_proba(X_train_scaled)[0:10, 7])"
   ]
  },
  {
   "cell_type": "markdown",
   "metadata": {},
   "source": [
    "### Extract the probability of a positive for your validation samples"
   ]
  },
  {
   "cell_type": "code",
   "execution_count": 70,
   "metadata": {},
   "outputs": [],
   "source": [
    "prob_val = logreg_l.predict_proba(X_val_scaled)[:,1]\n"
   ]
  },
  {
   "cell_type": "code",
   "execution_count": null,
   "metadata": {},
   "outputs": [],
   "source": []
  },
  {
   "cell_type": "code",
   "execution_count": 71,
   "metadata": {},
   "outputs": [],
   "source": [
    "# print('true:', y_val[0:25])\n",
    "# print('false:', y_val_log[0:25])"
   ]
  },
  {
   "cell_type": "code",
   "execution_count": 72,
   "metadata": {},
   "outputs": [
    {
     "ename": "NameError",
     "evalue": "name 'y_val_log' is not defined",
     "output_type": "error",
     "traceback": [
      "\u001b[0;31m---------------------------------------------------------------------------\u001b[0m",
      "\u001b[0;31mNameError\u001b[0m                                 Traceback (most recent call last)",
      "\u001b[0;32m<ipython-input-72-c54addf8f600>\u001b[0m in \u001b[0;36m<module>\u001b[0;34m\u001b[0m\n\u001b[1;32m      1\u001b[0m \u001b[0;32mfrom\u001b[0m \u001b[0msklearn\u001b[0m\u001b[0;34m.\u001b[0m\u001b[0mmetrics\u001b[0m \u001b[0;32mimport\u001b[0m \u001b[0mconfusion_matrix\u001b[0m\u001b[0;34m\u001b[0m\u001b[0;34m\u001b[0m\u001b[0m\n\u001b[0;32m----> 2\u001b[0;31m \u001b[0mconfusion\u001b[0m \u001b[0;34m=\u001b[0m \u001b[0mconfusion_matrix\u001b[0m\u001b[0;34m(\u001b[0m\u001b[0my_val\u001b[0m\u001b[0;34m,\u001b[0m \u001b[0my_val_log\u001b[0m\u001b[0;34m)\u001b[0m\u001b[0;34m\u001b[0m\u001b[0;34m\u001b[0m\u001b[0m\n\u001b[0m\u001b[1;32m      3\u001b[0m \u001b[0;34m\u001b[0m\u001b[0m\n\u001b[1;32m      4\u001b[0m \u001b[0mprint\u001b[0m\u001b[0;34m(\u001b[0m\u001b[0mconfusion\u001b[0m\u001b[0;34m)\u001b[0m\u001b[0;34m\u001b[0m\u001b[0;34m\u001b[0m\u001b[0m\n\u001b[1;32m      5\u001b[0m \u001b[0;31m#[row, column]\u001b[0m\u001b[0;34m\u001b[0m\u001b[0;34m\u001b[0m\u001b[0;34m\u001b[0m\u001b[0m\n",
      "\u001b[0;31mNameError\u001b[0m: name 'y_val_log' is not defined"
     ]
    }
   ],
   "source": [
    "from sklearn.metrics import confusion_matrix\n",
    "confusion = confusion_matrix(y_val, y_val_log)\n",
    "\n",
    "print(confusion)\n",
    "#[row, column]\n",
    "TP = confusion[1, 1]\n",
    "TN = confusion[0, 0]\n",
    "FP = confusion[0, 1]\n",
    "FN = confusion[1, 0]\n"
   ]
  },
  {
   "cell_type": "code",
   "execution_count": 73,
   "metadata": {},
   "outputs": [
    {
     "data": {
      "text/plain": [
       "0    0.645833\n",
       "Name: Outcome, dtype: float64"
      ]
     },
     "execution_count": 73,
     "metadata": {},
     "output_type": "execute_result"
    }
   ],
   "source": [
    "y_val.value_counts().head(1)/len(y_val)"
   ]
  },
  {
   "cell_type": "markdown",
   "metadata": {},
   "source": [
    "### Extract FPR, TPR and thresholds"
   ]
  },
  {
   "cell_type": "code",
   "execution_count": 74,
   "metadata": {},
   "outputs": [],
   "source": [
    "from sklearn.metrics import  roc_curve"
   ]
  },
  {
   "cell_type": "code",
   "execution_count": 75,
   "metadata": {},
   "outputs": [],
   "source": [
    "# Calculate the probability scores of each point in the training set\n",
    "y_train_score = logreg_l.predict_proba(X_train_scaled)\n",
    "train_fpr, train_tpr, thresholds_train = roc_curve(y_train_s, y_train_score[:,1])\n",
    "\n",
    "y_val_score = logreg_l.predict_proba(X_val_scaled)\n",
    "val_fpr, val_tpr, val_threshold = roc_curve(y_val, y_val_score[:,1])\n",
    "\n",
    "\n",
    "y_test_score = logreg_l.predict_proba(X_test)\n",
    "test_fpr, test_tpr, thresholds_test = roc_curve(y_test, y_test_score[:,1])"
   ]
  },
  {
   "cell_type": "markdown",
   "metadata": {},
   "source": [
    "### Plot the ROC curves for your training, validation (and, if you are done, test) datasets"
   ]
  },
  {
   "cell_type": "code",
   "execution_count": 76,
   "metadata": {},
   "outputs": [
    {
     "data": {
      "image/png": "[encoded data removed]",
      "text/plain": [
       "<Figure size 720x576 with 1 Axes>"
      ]
     },
     "metadata": {},
     "output_type": "display_data"
    }
   ],
   "source": [
    "import matplotlib.pyplot as plt\n",
    "import seaborn as sns\n",
    "%matplotlib inline\n",
    "\n",
    "# Seaborn's beautiful styling\n",
    "sns.set_style('darkgrid', {'axes.facecolor': '0.9'})\n",
    "\n",
    "plt.figure(figsize=(10, 8))\n",
    "lw = 2\n",
    "\n",
    "plt.plot(train_fpr, train_tpr, color='darkorange',lw=3, label='Training')\n",
    "plt.plot(val_fpr, val_tpr, color='darkgreen',lw=3, label='Validation')\n",
    "plt.plot(test_fpr, test_tpr, color='blue', lw=3, label='Test')\n",
    "\n",
    "plt.plot([0, 1], [0, 1], color='navy', lw=lw, linestyle='--')\n",
    "plt.xlim([0.0, 1.0])\n",
    "plt.ylim([0.0, 1.05])\n",
    "plt.yticks([i/20.0 for i in range(21)])\n",
    "plt.xticks([i/20.0 for i in range(21)])\n",
    "plt.xlabel('False Positive Rate')\n",
    "plt.ylabel('True Positive Rate')\n",
    "plt.title('Receiver operating characteristic (ROC) Curve')\n",
    "plt.legend(loc='lower right')\n",
    "plt.show()"
   ]
  },
  {
   "cell_type": "markdown",
   "metadata": {},
   "source": [
    "# Threshold selection"
   ]
  },
  {
   "cell_type": "markdown",
   "metadata": {},
   "source": [
    "### Estimate the prevalence in the environment where your model will be used"
   ]
  },
  {
   "cell_type": "code",
   "execution_count": 77,
   "metadata": {},
   "outputs": [],
   "source": [
    "# Prevalence = N ALL POSITIVE / N TOTAL\n",
    "Pre =  105 / 165"
   ]
  },
  {
   "cell_type": "markdown",
   "metadata": {},
   "source": [
    "### Estimate the costs for each unit of your FPs, TNs, FNs and TPs\n",
    "**Hint:** You don't have data for this. You will have to do some research and deep thinking<br>\n",
    "**Hint 2:** think of a £ value or something else that non-technical stakeholders could relate to<br>\n",
    "**Hint 3:** They are going to be approximations and that's fine. Just create a good logic.<br>"
   ]
  },
  {
   "cell_type": "code",
   "execution_count": 78,
   "metadata": {},
   "outputs": [],
   "source": [
    "FPc = 1+250      # one person + exams cost\n",
    "TNc = 0          # business as usual\n",
    "FNc = 1*1*2500   # one person + one year + costs related with health complications\n",
    "TPc =1*1*500+250 # one person + one year + costs related with specific medication + exams cost\n"
   ]
  },
  {
   "cell_type": "markdown",
   "metadata": {},
   "source": [
    "### Calculate your m parameter"
   ]
  },
  {
   "cell_type": "code",
   "execution_count": 79,
   "metadata": {},
   "outputs": [],
   "source": [
    "m = ((1 - Pre)/Pre)*((FPc - TNc)/(FNc - TPc))"
   ]
  },
  {
   "cell_type": "markdown",
   "metadata": {},
   "source": [
    "### Calculate fm for each threshold"
   ]
  },
  {
   "cell_type": "code",
   "execution_count": 80,
   "metadata": {},
   "outputs": [],
   "source": [
    "fm_list = test_tpr-(m*test_fpr)\n",
    "# list(zip(fm_list.tolist(), thresholds_test.tolist()))"
   ]
  },
  {
   "cell_type": "code",
   "execution_count": null,
   "metadata": {},
   "outputs": [],
   "source": []
  },
  {
   "cell_type": "code",
   "execution_count": 81,
   "metadata": {},
   "outputs": [],
   "source": [
    "TP = 100\n",
    "FP = 10\n",
    "TN = 50\n",
    "FN = 5"
   ]
  },
  {
   "cell_type": "code",
   "execution_count": 82,
   "metadata": {},
   "outputs": [
    {
     "data": {
      "text/plain": [
       "0.938721088435374"
      ]
     },
     "execution_count": 82,
     "metadata": {},
     "output_type": "execute_result"
    }
   ],
   "source": [
    "TPR = TP / (TP + FN)\n",
    "FPR = FP / (FP + TN)\n",
    "fm = TPR - m*FPR\n",
    "fm"
   ]
  },
  {
   "cell_type": "code",
   "execution_count": 83,
   "metadata": {},
   "outputs": [],
   "source": [
    "f = [(0.4, 0.3), (0.5, 0.4), (0.6, 0.5), (0.7, 0.6)]"
   ]
  },
  {
   "cell_type": "markdown",
   "metadata": {},
   "source": [
    "### Select the threshold with the highest fm score"
   ]
  },
  {
   "cell_type": "code",
   "execution_count": 84,
   "metadata": {},
   "outputs": [
    {
     "ename": "SyntaxError",
     "evalue": "invalid syntax (<ipython-input-84-7a6807a15b44>, line 1)",
     "output_type": "error",
     "traceback": [
      "\u001b[0;36m  File \u001b[0;32m\"<ipython-input-84-7a6807a15b44>\"\u001b[0;36m, line \u001b[0;32m1\u001b[0m\n\u001b[0;31m    0.9280510983019161, 0.07491794410783945),\u001b[0m\n\u001b[0m                                           ^\u001b[0m\n\u001b[0;31mSyntaxError\u001b[0m\u001b[0;31m:\u001b[0m invalid syntax\n"
     ]
    }
   ],
   "source": [
    "0.9280510983019161, 0.07491794410783945),"
   ]
  },
  {
   "cell_type": "code",
   "execution_count": 85,
   "metadata": {},
   "outputs": [],
   "source": [
    "# # selectin threshols \n",
    "# count = 0\n",
    "# for x in f:\n",
    "#     po = (x[0]-m*x[1])\n",
    "#     count += 1\n",
    "#     print('fm_'+ str(count) + ': ' + str(po))"
   ]
  },
  {
   "cell_type": "markdown",
   "metadata": {},
   "source": [
    "### Plot the confusion matrix for your selected threshold"
   ]
  },
  {
   "cell_type": "code",
   "execution_count": 86,
   "metadata": {},
   "outputs": [
    {
     "data": {
      "text/plain": [
       "FP    115\n",
       "TP     68\n",
       "TN      9\n",
       "dtype: int64"
      ]
     },
     "execution_count": 86,
     "metadata": {},
     "output_type": "execute_result"
    }
   ],
   "source": [
    "probs_list = y_test_score[:,1].tolist()\n",
    "\n",
    "my_results = []\n",
    "for x in probs_list:\n",
    "    if x > 0.07491794410783945:\n",
    "        my_results.append(1)\n",
    "    else:\n",
    "        my_results.append(0)\n",
    "confusion = []\n",
    "\n",
    "for i, real in enumerate(y_test.tolist()):\n",
    "    if my_results[i] == real:\n",
    "        if my_results[i] == 0:\n",
    "            confusion.append('TN')\n",
    "        else:\n",
    "            confusion.append('TP')\n",
    "    else:\n",
    "        if my_results[i] == 0:\n",
    "            confusion.append('FN')\n",
    "        else:\n",
    "            confusion.append('FP')\n",
    "pd.Series(confusion).value_counts()            "
   ]
  },
  {
   "cell_type": "code",
   "execution_count": 87,
   "metadata": {},
   "outputs": [],
   "source": [
    "from sklearn.metrics import confusion_matrix\n",
    "\n",
    "conf = confusion_matrix(y_test.tolist(), my_results)"
   ]
  },
  {
   "cell_type": "code",
   "execution_count": 88,
   "metadata": {},
   "outputs": [
    {
     "data": {
      "image/png": "[encoded data removed]",
      "text/plain": [
       "<Figure size 432x288 with 2 Axes>"
      ]
     },
     "metadata": {},
     "output_type": "display_data"
    }
   ],
   "source": [
    "import seaborn as sns\n",
    "sns.heatmap(conf, annot=True)\n",
    "plt.show()"
   ]
  },
  {
   "cell_type": "markdown",
   "metadata": {},
   "source": [
    "### Calculate your alpha / power / precision / accuracy\n",
    "(Don't use any library for this exercise, in real life you can though)"
   ]
  },
  {
   "cell_type": "code",
   "execution_count": 89,
   "metadata": {},
   "outputs": [
    {
     "ename": "AttributeError",
     "evalue": "'float' object has no attribute 'round'",
     "output_type": "error",
     "traceback": [
      "\u001b[0;31m---------------------------------------------------------------------------\u001b[0m",
      "\u001b[0;31mAttributeError\u001b[0m                            Traceback (most recent call last)",
      "\u001b[0;32m<ipython-input-89-79edef5760ef>\u001b[0m in \u001b[0;36m<module>\u001b[0;34m\u001b[0m\n\u001b[1;32m      5\u001b[0m \u001b[0mf1_score\u001b[0m \u001b[0;34m=\u001b[0m \u001b[0;36m2\u001b[0m\u001b[0;34m*\u001b[0m\u001b[0;34m(\u001b[0m\u001b[0mprecision\u001b[0m \u001b[0;34m*\u001b[0m \u001b[0mrecall\u001b[0m\u001b[0;34m)\u001b[0m \u001b[0;34m/\u001b[0m \u001b[0;34m(\u001b[0m\u001b[0mprecision\u001b[0m \u001b[0;34m+\u001b[0m \u001b[0mrecall\u001b[0m\u001b[0;34m)\u001b[0m\u001b[0;34m\u001b[0m\u001b[0;34m\u001b[0m\u001b[0m\n\u001b[1;32m      6\u001b[0m \u001b[0;34m\u001b[0m\u001b[0m\n\u001b[0;32m----> 7\u001b[0;31m \u001b[0mprecision\u001b[0m\u001b[0;34m,\u001b[0m \u001b[0mf1_score\u001b[0m\u001b[0;34m.\u001b[0m\u001b[0mround\u001b[0m\u001b[0;34m(\u001b[0m\u001b[0;36m2\u001b[0m\u001b[0;34m)\u001b[0m\u001b[0;34m,\u001b[0m \u001b[0maccuracy\u001b[0m\u001b[0;34m\u001b[0m\u001b[0;34m\u001b[0m\u001b[0m\n\u001b[0m",
      "\u001b[0;31mAttributeError\u001b[0m: 'float' object has no attribute 'round'"
     ]
    }
   ],
   "source": [
    "alpha = (FP/(FP+TN)) # FPR\n",
    "precision = TP/(TP + FP)\n",
    "recall = TP/(TP + FN) # TPR, sensittivity, Power\n",
    "accuracy = (TP + TN)/(TP + FP + TN + FN)\n",
    "f1_score = 2*(precision * recall) / (precision + recall)\n",
    "\n",
    "precision, f1_score.round(2), accuracy"
   ]
  },
  {
   "cell_type": "markdown",
   "metadata": {},
   "source": [
    "### Explain in non-technical terms your alpha / power / precision / accuracy"
   ]
  },
  {
   "cell_type": "code",
   "execution_count": 90,
   "metadata": {},
   "outputs": [],
   "source": [
    "# \n",
    "# \n",
    "# \n",
    "# \n",
    "# "
   ]
  },
  {
   "cell_type": "markdown",
   "metadata": {},
   "source": [
    "# Actionable problem solving recommendations"
   ]
  },
  {
   "cell_type": "markdown",
   "metadata": {},
   "source": [
    "### Write a brief paragraph telling your stakeholders something they can **DO** to be better off based on your model"
   ]
  },
  {
   "cell_type": "code",
   "execution_count": 91,
   "metadata": {},
   "outputs": [],
   "source": [
    "# \n",
    "# \n",
    "# \n",
    "# \n",
    "# "
   ]
  },
  {
   "cell_type": "code",
   "execution_count": 92,
   "metadata": {},
   "outputs": [
    {
     "data": {
      "text/plain": [
       "DecisionTreeClassifier(class_weight=None, criterion='gini', max_depth=None,\n",
       "                       max_features=None, max_leaf_nodes=None,\n",
       "                       min_impurity_decrease=0.0, min_impurity_split=None,\n",
       "                       min_samples_leaf=1, min_samples_split=2,\n",
       "                       min_weight_fraction_leaf=0.0, presort=False,\n",
       "                       random_state=42, splitter='best')"
      ]
     },
     "execution_count": 92,
     "metadata": {},
     "output_type": "execute_result"
    }
   ],
   "source": [
    "from sklearn.tree import DecisionTreeClassifier\n",
    "model = DecisionTreeClassifier(random_state=42)\n",
    "model.fit(X_train_scaled,y_train_s)"
   ]
  },
  {
   "cell_type": "code",
   "execution_count": 97,
   "metadata": {},
   "outputs": [
    {
     "ename": "ValueError",
     "evalue": "Expected 2D array, got 1D array instead:\narray=[ 1.1086124  -0.28548974  2.0689938   0.21019101  0.08627082  0.51999146\n  0.2721511   1.1395924   1.3254727  -0.06862941 -1.2148912   0.30313116\n  0.5509715  -0.1925496  -0.8431306  -0.7811705  -0.2545097  -1.121951\n -0.5952902   0.860772   -0.99803084 -0.7811705  -0.09960946 -1.4317515\n  1.3874328   0.11725087 -1.2458712   0.11725087 -0.47137    -0.9050907\n -0.93607074 -1.9584123   0.9227321  -1.0290109   0.42705134 -1.5246916\n -0.03764936 -0.16156955  2.130954   -0.7811705  -0.03764936 -0.09960946\n -0.7811705  -0.06862941  1.8521335  -0.16156955  2.0380137   1.2944926\n  2.4097743  -0.4094099   0.2721511  -1.6486118   0.95371217  0.48901144\n -0.47137     0.3341112   1.3254727   2.285854   -0.44038996 -0.62627023\n  0.17921096 -0.68823034  0.64391166 -3.7242749  -0.6572503  -0.1305895\n -0.00666932  1.542333   -0.5952902  -0.28548974 -0.6572503   0.11725087\n  0.17921096  0.6129316   0.7988119   0.36509123 -0.7192104  -3.7242749\n -1.9893923   0.3341112  -1.2148912  -1.2768512  -0.34744984  1.8211534\n -1.9584123   1.9450736  -0.6572503   0.64391166  1.8211534   0.48901144\n  0.36509123 -0.7811705   0.14823093  0.70587176  0.39607129 -0.99803084\n -1.4627315  -0.62627023  0.7988119   2.192914    0.48901144 -0.34744984\n  0.11725087 -0.93607074 -0.87411064  1.9140936   1.8831135  -0.47137\n  0.02431073 -0.28548974 -0.81215054 -0.34744984 -1.1529311   0.9227321\n  0.36509123 -1.3697914   2.099974   -0.09960946 -0.1925496   1.9760537\n -0.00666932  0.21019101  0.05529078 -0.5333301  -1.1839111   0.4580314\n  0.39607129  1.1705725   1.4803729  -0.62627023  0.5509715  -0.03764936\n  0.2721511   0.2721511   2.0689938  -0.5952902  -0.2545097   2.285854\n -0.7192104   0.58195156  0.7368518  -1.090971    1.4803729   1.0776323\n  0.14823093 -0.16156955  1.4803729   0.30313116 -0.9670508   0.17921096\n  0.3341112   0.70587176 -0.81215054  0.48901144  0.24117106  0.3341112\n -1.4317515   1.8521335   1.2944926  -1.2148912  -0.1305895  -0.75019044\n  0.05529078  1.6662532   0.2721511  -0.7811705   1.6972333  -0.44038996\n -0.5952902  -0.9050907  -1.0599909   1.8521335   1.9760537   0.95371217\n  0.51999146  1.6352732   0.7988119   0.11725087 -0.99803084  1.4184128\n  0.7368518  -0.5952902  -0.87411064 -0.62627023  0.7368518  -0.87411064\n -1.4627315   0.58195156 -0.2545097   1.9450736  -0.87411064 -1.0290109\n  0.11725087 -0.7192104   0.11725087 -0.16156955 -0.4094099   0.58195156\n  0.7988119  -0.62627023 -0.44038996 -0.99803084  1.5733131   0.42705134\n -0.4094099  -0.2545097  -3.7242749  -0.1305895  -0.5023501  -0.62627023\n  0.76783186 -1.4007714  -0.6572503   1.4803729  -0.03764936 -1.5246916\n -1.2458712  -0.3784299   0.39607129 -0.3784299  -0.44038996 -0.28548974\n -0.87411064 -0.2545097   0.82979196 -0.5333301   0.82979196  0.82979196\n  0.98469216 -0.9050907  -0.1305895  -1.6176318   0.2721511  -0.3164698\n  0.02431073  1.1705725  -0.5023501   1.8831135   0.08627082  1.0466523\n  0.14823093  0.08627082 -0.9050907  -0.81215054 -0.8431306   0.76783186\n -1.7105719  -0.7811705   0.76783186  0.30313116 -0.09960946  0.2721511\n -0.6572503   1.0466523   0.24117106  0.2721511   0.39607129 -0.6572503\n -0.5333301   1.8831135  -0.47137    -1.1529311  -1.3078313   2.3168342\n -1.0290109   0.24117106  0.24117106  0.7988119  -0.1925496   0.2721511\n -0.5333301  -0.34744984 -1.121951   -0.56431013  0.05529078 -0.1925496\n -0.34744984 -0.28548974  0.82979196  2.161934   -0.7192104   0.4580314\n -0.9050907  -0.44038996  0.17921096 -0.1925496  -0.09960946  0.89175206\n -0.7192104  -0.00666932  0.24117106 -0.8431306  -1.1839111  -0.9670508\n  0.6748917  -3.7242749  -1.090971   -0.4094099  -0.62627023 -0.56431013\n  1.8211534   1.7591933  -0.93607074 -1.2768512   1.1705725   1.3874328\n -1.0290109  -0.5952902   1.511353    0.08627082 -0.9670508  -0.3784299\n  1.6352732   0.30313116  0.51999146  1.8521335   0.98469216  0.30313116\n  1.2944926  -0.44038996  0.51999146 -0.44038996  0.7368518  -1.121951\n  2.0689938  -0.1305895   0.2721511  -0.62627023 -0.03764936 -1.0599909\n -1.4007714   0.95371217 -0.6572503  -0.7811705   1.1086124   1.2015525\n  0.21019101 -0.93607074 -1.0599909  -1.803512    0.64391166 -0.5023501\n -0.62627023 -0.87411064 -0.81215054 -0.1925496   2.0689938  -1.4317515\n -0.34744984 -0.6572503   1.7282133  -0.00666932 -0.47137     0.51999146\n -0.9050907  -0.3784299   2.130954   -1.121951   -0.47137    -0.00666932\n  0.6129316  -0.47137    -0.3164698  -0.09960946  0.39607129  1.3874328\n -0.34744984 -0.22352964  0.14823093  0.08627082 -0.06862941  0.2721511\n -0.93607074  0.14823093  0.30313116  1.2635126   2.3787942  -0.9670508\n -0.34744984  0.42705134  0.82979196 -0.03764936 -0.99803084  0.14823093\n -0.56431013  0.14823093  0.24117106 -0.7811705  -0.47137    -0.87411064\n  0.11725087 -0.62627023 -0.93607074 -0.28548974 -0.5023501   0.30313116\n -0.00666932 -0.56431013  0.5509715   0.70587176 -0.8431306  -0.3784299\n -0.6572503  -0.99803084 -1.5246916   0.6748917   0.05529078  0.17921096\n -0.56431013 -0.56431013 -0.56431013 -1.2148912   0.14823093  0.11725087\n -0.47137     0.70587176  0.58195156 -0.9670508   1.1705725   2.3787942\n -0.2545097   0.5509715  -0.28548974 -0.5333301   0.14823093  0.48901144\n  0.2721511   1.1086124   0.08627082 -1.2458712  -0.93607074  0.36509123].\nReshape your data either using array.reshape(-1, 1) if your data has a single feature or array.reshape(1, -1) if it contains a single sample.",
     "output_type": "error",
     "traceback": [
      "\u001b[0;31m---------------------------------------------------------------------------\u001b[0m",
      "\u001b[0;31mValueError\u001b[0m                                Traceback (most recent call last)",
      "\u001b[0;32m<ipython-input-97-cdcf32806aa7>\u001b[0m in \u001b[0;36m<module>\u001b[0;34m\u001b[0m\n\u001b[0;32m----> 1\u001b[0;31m \u001b[0mtrain_prob\u001b[0m \u001b[0;34m=\u001b[0m \u001b[0mmodel\u001b[0m\u001b[0;34m.\u001b[0m\u001b[0mpredict_proba\u001b[0m\u001b[0;34m(\u001b[0m\u001b[0mX_train_scaled\u001b[0m\u001b[0;34m[\u001b[0m\u001b[0;34m:\u001b[0m\u001b[0;34m,\u001b[0m\u001b[0;36m1\u001b[0m\u001b[0;34m]\u001b[0m\u001b[0;34m)\u001b[0m\u001b[0;34m\u001b[0m\u001b[0;34m\u001b[0m\u001b[0m\n\u001b[0m\u001b[1;32m      2\u001b[0m \u001b[0mval_prob\u001b[0m \u001b[0;34m=\u001b[0m \u001b[0mmodel\u001b[0m\u001b[0;34m.\u001b[0m\u001b[0mpredict_proba\u001b[0m\u001b[0;34m(\u001b[0m\u001b[0mX_val_scaled\u001b[0m\u001b[0;34m[\u001b[0m\u001b[0;34m:\u001b[0m\u001b[0;34m,\u001b[0m\u001b[0;36m1\u001b[0m\u001b[0;34m]\u001b[0m\u001b[0;34m)\u001b[0m\u001b[0;34m\u001b[0m\u001b[0;34m\u001b[0m\u001b[0m\n\u001b[1;32m      3\u001b[0m \u001b[0;34m\u001b[0m\u001b[0m\n\u001b[1;32m      4\u001b[0m \u001b[0mtrain_fp\u001b[0m\u001b[0;34m,\u001b[0m \u001b[0mtrain_tp\u001b[0m\u001b[0;34m,\u001b[0m \u001b[0mtrai_threshold\u001b[0m \u001b[0;34m=\u001b[0m \u001b[0mroc_auc_score\u001b[0m\u001b[0;34m(\u001b[0m\u001b[0my_train_s\u001b[0m\u001b[0;34m,\u001b[0m\u001b[0mtrain_prob\u001b[0m\u001b[0;34m)\u001b[0m\u001b[0;34m\u001b[0m\u001b[0;34m\u001b[0m\u001b[0m\n\u001b[1;32m      5\u001b[0m \u001b[0mval_fp\u001b[0m\u001b[0;34m,\u001b[0m \u001b[0mval_tp\u001b[0m\u001b[0;34m,\u001b[0m \u001b[0mval_threshold\u001b[0m \u001b[0;34m=\u001b[0m \u001b[0mroc_auc_score\u001b[0m\u001b[0;34m(\u001b[0m\u001b[0my_val\u001b[0m\u001b[0;34m,\u001b[0m\u001b[0mval_prob\u001b[0m\u001b[0;34m)\u001b[0m\u001b[0;34m\u001b[0m\u001b[0;34m\u001b[0m\u001b[0m\n",
      "\u001b[0;32m~/opt/anaconda3/envs/learn-env/lib/python3.6/site-packages/sklearn/tree/tree.py\u001b[0m in \u001b[0;36mpredict_proba\u001b[0;34m(self, X, check_input)\u001b[0m\n\u001b[1;32m    845\u001b[0m         \"\"\"\n\u001b[1;32m    846\u001b[0m         \u001b[0mcheck_is_fitted\u001b[0m\u001b[0;34m(\u001b[0m\u001b[0mself\u001b[0m\u001b[0;34m,\u001b[0m \u001b[0;34m'tree_'\u001b[0m\u001b[0;34m)\u001b[0m\u001b[0;34m\u001b[0m\u001b[0;34m\u001b[0m\u001b[0m\n\u001b[0;32m--> 847\u001b[0;31m         \u001b[0mX\u001b[0m \u001b[0;34m=\u001b[0m \u001b[0mself\u001b[0m\u001b[0;34m.\u001b[0m\u001b[0m_validate_X_predict\u001b[0m\u001b[0;34m(\u001b[0m\u001b[0mX\u001b[0m\u001b[0;34m,\u001b[0m \u001b[0mcheck_input\u001b[0m\u001b[0;34m)\u001b[0m\u001b[0;34m\u001b[0m\u001b[0;34m\u001b[0m\u001b[0m\n\u001b[0m\u001b[1;32m    848\u001b[0m         \u001b[0mproba\u001b[0m \u001b[0;34m=\u001b[0m \u001b[0mself\u001b[0m\u001b[0;34m.\u001b[0m\u001b[0mtree_\u001b[0m\u001b[0;34m.\u001b[0m\u001b[0mpredict\u001b[0m\u001b[0;34m(\u001b[0m\u001b[0mX\u001b[0m\u001b[0;34m)\u001b[0m\u001b[0;34m\u001b[0m\u001b[0;34m\u001b[0m\u001b[0m\n\u001b[1;32m    849\u001b[0m \u001b[0;34m\u001b[0m\u001b[0m\n",
      "\u001b[0;32m~/opt/anaconda3/envs/learn-env/lib/python3.6/site-packages/sklearn/tree/tree.py\u001b[0m in \u001b[0;36m_validate_X_predict\u001b[0;34m(self, X, check_input)\u001b[0m\n\u001b[1;32m    389\u001b[0m         \u001b[0;34m\"\"\"Validate X whenever one tries to predict, apply, predict_proba\"\"\"\u001b[0m\u001b[0;34m\u001b[0m\u001b[0;34m\u001b[0m\u001b[0m\n\u001b[1;32m    390\u001b[0m         \u001b[0;32mif\u001b[0m \u001b[0mcheck_input\u001b[0m\u001b[0;34m:\u001b[0m\u001b[0;34m\u001b[0m\u001b[0;34m\u001b[0m\u001b[0m\n\u001b[0;32m--> 391\u001b[0;31m             \u001b[0mX\u001b[0m \u001b[0;34m=\u001b[0m \u001b[0mcheck_array\u001b[0m\u001b[0;34m(\u001b[0m\u001b[0mX\u001b[0m\u001b[0;34m,\u001b[0m \u001b[0mdtype\u001b[0m\u001b[0;34m=\u001b[0m\u001b[0mDTYPE\u001b[0m\u001b[0;34m,\u001b[0m \u001b[0maccept_sparse\u001b[0m\u001b[0;34m=\u001b[0m\u001b[0;34m\"csr\"\u001b[0m\u001b[0;34m)\u001b[0m\u001b[0;34m\u001b[0m\u001b[0;34m\u001b[0m\u001b[0m\n\u001b[0m\u001b[1;32m    392\u001b[0m             if issparse(X) and (X.indices.dtype != np.intc or\n\u001b[1;32m    393\u001b[0m                                 X.indptr.dtype != np.intc):\n",
      "\u001b[0;32m~/opt/anaconda3/envs/learn-env/lib/python3.6/site-packages/sklearn/utils/validation.py\u001b[0m in \u001b[0;36mcheck_array\u001b[0;34m(array, accept_sparse, accept_large_sparse, dtype, order, copy, force_all_finite, ensure_2d, allow_nd, ensure_min_samples, ensure_min_features, warn_on_dtype, estimator)\u001b[0m\n\u001b[1;32m    519\u001b[0m                     \u001b[0;34m\"Reshape your data either using array.reshape(-1, 1) if \"\u001b[0m\u001b[0;34m\u001b[0m\u001b[0;34m\u001b[0m\u001b[0m\n\u001b[1;32m    520\u001b[0m                     \u001b[0;34m\"your data has a single feature or array.reshape(1, -1) \"\u001b[0m\u001b[0;34m\u001b[0m\u001b[0;34m\u001b[0m\u001b[0m\n\u001b[0;32m--> 521\u001b[0;31m                     \"if it contains a single sample.\".format(array))\n\u001b[0m\u001b[1;32m    522\u001b[0m \u001b[0;34m\u001b[0m\u001b[0m\n\u001b[1;32m    523\u001b[0m         \u001b[0;31m# in the future np.flexible dtypes will be handled like object dtypes\u001b[0m\u001b[0;34m\u001b[0m\u001b[0;34m\u001b[0m\u001b[0;34m\u001b[0m\u001b[0m\n",
      "\u001b[0;31mValueError\u001b[0m: Expected 2D array, got 1D array instead:\narray=[ 1.1086124  -0.28548974  2.0689938   0.21019101  0.08627082  0.51999146\n  0.2721511   1.1395924   1.3254727  -0.06862941 -1.2148912   0.30313116\n  0.5509715  -0.1925496  -0.8431306  -0.7811705  -0.2545097  -1.121951\n -0.5952902   0.860772   -0.99803084 -0.7811705  -0.09960946 -1.4317515\n  1.3874328   0.11725087 -1.2458712   0.11725087 -0.47137    -0.9050907\n -0.93607074 -1.9584123   0.9227321  -1.0290109   0.42705134 -1.5246916\n -0.03764936 -0.16156955  2.130954   -0.7811705  -0.03764936 -0.09960946\n -0.7811705  -0.06862941  1.8521335  -0.16156955  2.0380137   1.2944926\n  2.4097743  -0.4094099   0.2721511  -1.6486118   0.95371217  0.48901144\n -0.47137     0.3341112   1.3254727   2.285854   -0.44038996 -0.62627023\n  0.17921096 -0.68823034  0.64391166 -3.7242749  -0.6572503  -0.1305895\n -0.00666932  1.542333   -0.5952902  -0.28548974 -0.6572503   0.11725087\n  0.17921096  0.6129316   0.7988119   0.36509123 -0.7192104  -3.7242749\n -1.9893923   0.3341112  -1.2148912  -1.2768512  -0.34744984  1.8211534\n -1.9584123   1.9450736  -0.6572503   0.64391166  1.8211534   0.48901144\n  0.36509123 -0.7811705   0.14823093  0.70587176  0.39607129 -0.99803084\n -1.4627315  -0.62627023  0.7988119   2.192914    0.48901144 -0.34744984\n  0.11725087 -0.93607074 -0.87411064  1.9140936   1.8831135  -0.47137\n  0.02431073 -0.28548974 -0.81215054 -0.34744984 -1.1529311   0.9227321\n  0.36509123 -1.3697914   2.099974   -0.09960946 -0.1925496   1.9760537\n -0.00666932  0.21019101  0.05529078 -0.5333301  -1.1839111   0.4580314\n  0.39607129  1.1705725   1.4803729  -0.62627023  0.5509715  -0.03764936\n  0.2721511   0.2721511   2.0689938  -0.5952902  -0.2545097   2.285854\n -0.7192104   0.58195156  0.7368518  -1.090971    1.4803729   1.0776323\n  0.14823093 -0.16156955  1.4803729   0.30313116 -0.9670508   0.17921096\n  0.3341112   0.70587176 -0.81215054  0.48901144  0.24117106  0.3341112\n -1.4317515   1.8521335   1.2944926  -1.2148912  -0.1305895  -0.75019044\n  0.05529078  1.6662532   0.2721511  -0.7811705   1.6972333  -0.44038996\n -0.5952902  -0.9050907  -1.0599909   1.8521335   1.9760537   0.95371217\n  0.51999146  1.6352732   0.7988119   0.11725087 -0.99803084  1.4184128\n  0.7368518  -0.5952902  -0.87411064 -0.62627023  0.7368518  -0.87411064\n -1.4627315   0.58195156 -0.2545097   1.9450736  -0.87411064 -1.0290109\n  0.11725087 -0.7192104   0.11725087 -0.16156955 -0.4094099   0.58195156\n  0.7988119  -0.62627023 -0.44038996 -0.99803084  1.5733131   0.42705134\n -0.4094099  -0.2545097  -3.7242749  -0.1305895  -0.5023501  -0.62627023\n  0.76783186 -1.4007714  -0.6572503   1.4803729  -0.03764936 -1.5246916\n -1.2458712  -0.3784299   0.39607129 -0.3784299  -0.44038996 -0.28548974\n -0.87411064 -0.2545097   0.82979196 -0.5333301   0.82979196  0.82979196\n  0.98469216 -0.9050907  -0.1305895  -1.6176318   0.2721511  -0.3164698\n  0.02431073  1.1705725  -0.5023501   1.8831135   0.08627082  1.0466523\n  0.14823093  0.08627082 -0.9050907  -0.81215054 -0.8431306   0.76783186\n -1.7105719  -0.7811705   0.76783186  0.30313116 -0.09960946  0.2721511\n -0.6572503   1.0466523   0.24117106  0.2721511   0.39607129 -0.6572503\n -0.5333301   1.8831135  -0.47137    -1.1529311  -1.3078313   2.3168342\n -1.0290109   0.24117106  0.24117106  0.7988119  -0.1925496   0.2721511\n -0.5333301  -0.34744984 -1.121951   -0.56431013  0.05529078 -0.1925496\n -0.34744984 -0.28548974  0.82979196  2.161934   -0.7192104   0.4580314\n -0.9050907  -0.44038996  0.17921096 -0.1925496  -0.09960946  0.89175206\n -0.7192104  -0.00666932  0.24117106 -0.8431306  -1.1839111  -0.9670508\n  0.6748917  -3.7242749  -1.090971   -0.4094099  -0.62627023 -0.56431013\n  1.8211534   1.7591933  -0.93607074 -1.2768512   1.1705725   1.3874328\n -1.0290109  -0.5952902   1.511353    0.08627082 -0.9670508  -0.3784299\n  1.6352732   0.30313116  0.51999146  1.8521335   0.98469216  0.30313116\n  1.2944926  -0.44038996  0.51999146 -0.44038996  0.7368518  -1.121951\n  2.0689938  -0.1305895   0.2721511  -0.62627023 -0.03764936 -1.0599909\n -1.4007714   0.95371217 -0.6572503  -0.7811705   1.1086124   1.2015525\n  0.21019101 -0.93607074 -1.0599909  -1.803512    0.64391166 -0.5023501\n -0.62627023 -0.87411064 -0.81215054 -0.1925496   2.0689938  -1.4317515\n -0.34744984 -0.6572503   1.7282133  -0.00666932 -0.47137     0.51999146\n -0.9050907  -0.3784299   2.130954   -1.121951   -0.47137    -0.00666932\n  0.6129316  -0.47137    -0.3164698  -0.09960946  0.39607129  1.3874328\n -0.34744984 -0.22352964  0.14823093  0.08627082 -0.06862941  0.2721511\n -0.93607074  0.14823093  0.30313116  1.2635126   2.3787942  -0.9670508\n -0.34744984  0.42705134  0.82979196 -0.03764936 -0.99803084  0.14823093\n -0.56431013  0.14823093  0.24117106 -0.7811705  -0.47137    -0.87411064\n  0.11725087 -0.62627023 -0.93607074 -0.28548974 -0.5023501   0.30313116\n -0.00666932 -0.56431013  0.5509715   0.70587176 -0.8431306  -0.3784299\n -0.6572503  -0.99803084 -1.5246916   0.6748917   0.05529078  0.17921096\n -0.56431013 -0.56431013 -0.56431013 -1.2148912   0.14823093  0.11725087\n -0.47137     0.70587176  0.58195156 -0.9670508   1.1705725   2.3787942\n -0.2545097   0.5509715  -0.28548974 -0.5333301   0.14823093  0.48901144\n  0.2721511   1.1086124   0.08627082 -1.2458712  -0.93607074  0.36509123].\nReshape your data either using array.reshape(-1, 1) if your data has a single feature or array.reshape(1, -1) if it contains a single sample."
     ]
    }
   ],
   "source": [
    "train_prob = model.predict_proba(X_train_scaled[:,1])\n",
    "val_prob = model.predict_proba(X_val_scaled[:,1])\n",
    "\n",
    "train_fp, train_tp, trai_threshold = roc_auc_score(y_train_s,train_prob)\n",
    "val_fp, val_tp, val_threshold = roc_auc_score(y_val,val_prob)\n"
   ]
  },
  {
   "cell_type": "code",
   "execution_count": 94,
   "metadata": {},
   "outputs": [
    {
     "ename": "NameError",
     "evalue": "name 'train_fp' is not defined",
     "output_type": "error",
     "traceback": [
      "\u001b[0;31m---------------------------------------------------------------------------\u001b[0m",
      "\u001b[0;31mNameError\u001b[0m                                 Traceback (most recent call last)",
      "\u001b[0;32m<ipython-input-94-f3c557b47458>\u001b[0m in \u001b[0;36m<module>\u001b[0;34m\u001b[0m\n\u001b[1;32m      4\u001b[0m \u001b[0mlw\u001b[0m \u001b[0;34m=\u001b[0m \u001b[0;36m2\u001b[0m\u001b[0;34m\u001b[0m\u001b[0;34m\u001b[0m\u001b[0m\n\u001b[1;32m      5\u001b[0m \u001b[0;34m\u001b[0m\u001b[0m\n\u001b[0;32m----> 6\u001b[0;31m \u001b[0mplt\u001b[0m\u001b[0;34m.\u001b[0m\u001b[0mplot\u001b[0m\u001b[0;34m(\u001b[0m\u001b[0mtrain_fp\u001b[0m\u001b[0;34m,\u001b[0m \u001b[0mtrain_tp\u001b[0m\u001b[0;34m,\u001b[0m \u001b[0mcolor\u001b[0m\u001b[0;34m=\u001b[0m\u001b[0;34m'darkorange'\u001b[0m\u001b[0;34m,\u001b[0m\u001b[0mlw\u001b[0m\u001b[0;34m=\u001b[0m\u001b[0;36m3\u001b[0m\u001b[0;34m,\u001b[0m \u001b[0mlabel\u001b[0m\u001b[0;34m=\u001b[0m\u001b[0;34m'Training'\u001b[0m\u001b[0;34m)\u001b[0m\u001b[0;34m\u001b[0m\u001b[0;34m\u001b[0m\u001b[0m\n\u001b[0m\u001b[1;32m      7\u001b[0m \u001b[0mplt\u001b[0m\u001b[0;34m.\u001b[0m\u001b[0mplot\u001b[0m\u001b[0;34m(\u001b[0m\u001b[0mval_fp\u001b[0m\u001b[0;34m,\u001b[0m \u001b[0mval_tp\u001b[0m\u001b[0;34m,\u001b[0m \u001b[0mcolor\u001b[0m\u001b[0;34m=\u001b[0m\u001b[0;34m'darkgreen'\u001b[0m\u001b[0;34m,\u001b[0m\u001b[0mlw\u001b[0m\u001b[0;34m=\u001b[0m\u001b[0;36m3\u001b[0m\u001b[0;34m,\u001b[0m \u001b[0mlabel\u001b[0m\u001b[0;34m=\u001b[0m\u001b[0;34m'Validation'\u001b[0m\u001b[0;34m)\u001b[0m\u001b[0;34m\u001b[0m\u001b[0;34m\u001b[0m\u001b[0m\n\u001b[1;32m      8\u001b[0m \u001b[0;34m\u001b[0m\u001b[0m\n",
      "\u001b[0;31mNameError\u001b[0m: name 'train_fp' is not defined"
     ]
    },
    {
     "data": {
      "text/plain": [
       "<Figure size 720x576 with 0 Axes>"
      ]
     },
     "metadata": {},
     "output_type": "display_data"
    }
   ],
   "source": [
    "sns.set_style('darkgrid', {'axes.facecolor': '0.9'})\n",
    "\n",
    "plt.figure(figsize=(10, 8))\n",
    "lw = 2\n",
    "\n",
    "plt.plot(train_fp, train_tp, color='darkorange',lw=3, label='Training')\n",
    "plt.plot(val_fp, val_tp, color='darkgreen',lw=3, label='Validation')\n",
    "\n",
    "plt.plot([0, 1], [0, 1], color='navy', lw=lw, linestyle='--')\n",
    "plt.xlim([0.0, 1.0])\n",
    "plt.ylim([0.0, 1.05])\n",
    "plt.yticks([i/20.0 for i in range(21)])\n",
    "plt.xticks([i/20.0 for i in range(21)])\n",
    "plt.xlabel('False Positive Rate')\n",
    "plt.ylabel('True Positive Rate')\n",
    "plt.title('Receiver operating characteristic (ROC) Curve')\n",
    "plt.legend(loc='lower right')\n",
    "plt.show()"
   ]
  },
  {
   "cell_type": "code",
   "execution_count": null,
   "metadata": {},
   "outputs": [],
   "source": []
  },
  {
   "cell_type": "code",
   "execution_count": 98,
   "metadata": {},
   "outputs": [],
   "source": [
    "from sklearn.metrics import mean_squared_error, mean_absolute_error, r2_score"
   ]
  },
  {
   "cell_type": "code",
   "execution_count": 101,
   "metadata": {},
   "outputs": [],
   "source": [
    "mse = mean_squared_error(y_train_s, y_train_log_las)\n",
    "mae = mean_absolute_error(y_train_s, y_train_log_las)\n",
    "r2 = r2_score(y_train_s, y_train_log_las)"
   ]
  },
  {
   "cell_type": "code",
   "execution_count": 102,
   "metadata": {},
   "outputs": [
    {
     "data": {
      "text/plain": [
       "(0.2361111111111111, 0.2361111111111111, -0.04498778665781322)"
      ]
     },
     "execution_count": 102,
     "metadata": {},
     "output_type": "execute_result"
    }
   ],
   "source": [
    "mse, mae, r2"
   ]
  },
  {
   "cell_type": "code",
   "execution_count": null,
   "metadata": {},
   "outputs": [],
   "source": []
  }
 ],
 "metadata": {
  "kernelspec": {
   "display_name": "Python [conda env:learn-env] *",
   "language": "python",
   "name": "conda-env-learn-env-py"
  },
  "language_info": {
   "codemirror_mode": {
    "name": "ipython",
    "version": 3
   },
   "file_extension": ".py",
   "mimetype": "text/x-python",
   "name": "python",
   "nbconvert_exporter": "python",
   "pygments_lexer": "ipython3",
   "version": "3.6.9"
  }
 },
 "nbformat": 4,
 "nbformat_minor": 2
}
